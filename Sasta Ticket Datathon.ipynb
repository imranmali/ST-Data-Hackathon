{
 "cells": [
  {
   "cell_type": "markdown",
   "id": "d4dd1e77",
   "metadata": {},
   "source": [
    "# SastaTicket Datathon Flight Price Prediction and Analysis"
   ]
  },
  {
   "cell_type": "code",
   "execution_count": 3,
   "id": "68c04a69",
   "metadata": {},
   "outputs": [],
   "source": [
    "#importing libraries\n",
    "import pandas as pd\n",
    "import numpy as np\n",
    "import seaborn as sns\n",
    "import matplotlib.pyplot as plt\n",
    "import plotly.express as px\n",
    "from sklearn.model_selection import train_test_split, GridSearchCV, cross_val_score, RandomizedSearchCV\n",
    "from sklearn.tree import DecisionTreeRegressor, ExtraTreeRegressor\n",
    "from sklearn.ensemble import RandomForestRegressor, GradientBoostingRegressor\n",
    "from sklearn.neighbors import KNeighborsRegressor\n",
    "from xgboost import XGBRegressor\n",
    "from sklearn.metrics import mean_absolute_error, mean_squared_error, r2_score\n",
    "from sklearn import metrics\n",
    "import warnings\n",
    "import pickle\n",
    "import category_encoders as ce\n",
    "warnings.filterwarnings('ignore')"
   ]
  },
  {
   "cell_type": "code",
   "execution_count": 4,
   "id": "36d239ed",
   "metadata": {},
   "outputs": [],
   "source": [
    "# Set maximum number of columns\n",
    "pd.set_option('display.max_columns', None)"
   ]
  },
  {
   "cell_type": "code",
   "execution_count": 5,
   "id": "ced61e17",
   "metadata": {},
   "outputs": [],
   "source": [
    "# Set Number of Samples from the file to be trained ( Its for Normal Computer If you have a good high level server then full data can be trained)\n",
    "n_samples = 21776590"
   ]
  },
  {
   "cell_type": "markdown",
   "id": "fa5d4544",
   "metadata": {},
   "source": [
    "# Importing dataset¶\n",
    "1.Since data is in form of csv file we have to use pandas read_csv to load the data.\n",
    "\n",
    "2.After loading it is important to check null values in a column or a row\n",
    "\n",
    "3.If it is present then following can be done,\n",
    "\n",
    "Filling NaN values with mean, median and mode using fillna() method\n",
    "If Less missing values, we can drop it as well"
   ]
  },
  {
   "cell_type": "code",
   "execution_count": 6,
   "id": "85d17471",
   "metadata": {},
   "outputs": [],
   "source": [
    "# loading x_test.csv file\n",
    "df_X_test = pd.read_csv(\"X_test.csv\")"
   ]
  },
  {
   "cell_type": "code",
   "execution_count": 7,
   "id": "d01c04dc",
   "metadata": {},
   "outputs": [
    {
     "name": "stdout",
     "output_type": "stream",
     "text": [
      "<class 'pandas.core.frame.DataFrame'>\n",
      "RangeIndex: 4532489 entries, 0 to 4532488\n",
      "Data columns (total 10 columns):\n",
      " #   Column  Dtype  \n",
      "---  ------  -----  \n",
      " 0   f1      object \n",
      " 1   f2      object \n",
      " 2   f3      object \n",
      " 3   f4      object \n",
      " 4   f5      object \n",
      " 5   f6      object \n",
      " 6   f7      bool   \n",
      " 7   f8      float64\n",
      " 8   f9      int64  \n",
      " 9   f10     object \n",
      "dtypes: bool(1), float64(1), int64(1), object(7)\n",
      "memory usage: 315.5+ MB\n"
     ]
    }
   ],
   "source": [
    "#information about the data\n",
    "df_X_test.info() "
   ]
  },
  {
   "cell_type": "code",
   "execution_count": 8,
   "id": "9b5bf8de",
   "metadata": {},
   "outputs": [
    {
     "data": {
      "text/html": [
       "<div>\n",
       "<style scoped>\n",
       "    .dataframe tbody tr th:only-of-type {\n",
       "        vertical-align: middle;\n",
       "    }\n",
       "\n",
       "    .dataframe tbody tr th {\n",
       "        vertical-align: top;\n",
       "    }\n",
       "\n",
       "    .dataframe thead th {\n",
       "        text-align: right;\n",
       "    }\n",
       "</style>\n",
       "<table border=\"1\" class=\"dataframe\">\n",
       "  <thead>\n",
       "    <tr style=\"text-align: right;\">\n",
       "      <th></th>\n",
       "      <th>f8</th>\n",
       "      <th>f9</th>\n",
       "    </tr>\n",
       "  </thead>\n",
       "  <tbody>\n",
       "    <tr>\n",
       "      <th>count</th>\n",
       "      <td>4.532489e+06</td>\n",
       "      <td>4.532489e+06</td>\n",
       "    </tr>\n",
       "    <tr>\n",
       "      <th>mean</th>\n",
       "      <td>2.201668e+01</td>\n",
       "      <td>9.891111e-01</td>\n",
       "    </tr>\n",
       "    <tr>\n",
       "      <th>std</th>\n",
       "      <td>7.738736e+00</td>\n",
       "      <td>5.539422e-01</td>\n",
       "    </tr>\n",
       "    <tr>\n",
       "      <th>min</th>\n",
       "      <td>0.000000e+00</td>\n",
       "      <td>0.000000e+00</td>\n",
       "    </tr>\n",
       "    <tr>\n",
       "      <th>25%</th>\n",
       "      <td>2.000000e+01</td>\n",
       "      <td>1.000000e+00</td>\n",
       "    </tr>\n",
       "    <tr>\n",
       "      <th>50%</th>\n",
       "      <td>2.000000e+01</td>\n",
       "      <td>1.000000e+00</td>\n",
       "    </tr>\n",
       "    <tr>\n",
       "      <th>75%</th>\n",
       "      <td>2.000000e+01</td>\n",
       "      <td>1.000000e+00</td>\n",
       "    </tr>\n",
       "    <tr>\n",
       "      <th>max</th>\n",
       "      <td>4.000000e+01</td>\n",
       "      <td>2.000000e+00</td>\n",
       "    </tr>\n",
       "  </tbody>\n",
       "</table>\n",
       "</div>"
      ],
      "text/plain": [
       "                 f8            f9\n",
       "count  4.532489e+06  4.532489e+06\n",
       "mean   2.201668e+01  9.891111e-01\n",
       "std    7.738736e+00  5.539422e-01\n",
       "min    0.000000e+00  0.000000e+00\n",
       "25%    2.000000e+01  1.000000e+00\n",
       "50%    2.000000e+01  1.000000e+00\n",
       "75%    2.000000e+01  1.000000e+00\n",
       "max    4.000000e+01  2.000000e+00"
      ]
     },
     "execution_count": 8,
     "metadata": {},
     "output_type": "execute_result"
    }
   ],
   "source": [
    "#describe about the data\n",
    "df_X_test.describe()"
   ]
  },
  {
   "cell_type": "code",
   "execution_count": 9,
   "id": "e1aa0899",
   "metadata": {},
   "outputs": [
    {
     "name": "stdout",
     "output_type": "stream",
     "text": [
      "(4532489, 10)\n"
     ]
    },
    {
     "data": {
      "text/html": [
       "<div>\n",
       "<style scoped>\n",
       "    .dataframe tbody tr th:only-of-type {\n",
       "        vertical-align: middle;\n",
       "    }\n",
       "\n",
       "    .dataframe tbody tr th {\n",
       "        vertical-align: top;\n",
       "    }\n",
       "\n",
       "    .dataframe thead th {\n",
       "        text-align: right;\n",
       "    }\n",
       "</style>\n",
       "<table border=\"1\" class=\"dataframe\">\n",
       "  <thead>\n",
       "    <tr style=\"text-align: right;\">\n",
       "      <th></th>\n",
       "      <th>f1</th>\n",
       "      <th>f2</th>\n",
       "      <th>f3</th>\n",
       "      <th>f4</th>\n",
       "      <th>f5</th>\n",
       "      <th>f6</th>\n",
       "      <th>f7</th>\n",
       "      <th>f8</th>\n",
       "      <th>f9</th>\n",
       "      <th>f10</th>\n",
       "    </tr>\n",
       "  </thead>\n",
       "  <tbody>\n",
       "    <tr>\n",
       "      <th>0</th>\n",
       "      <td>2021-09-01 08:30:19.320999+00:00</td>\n",
       "      <td>x</td>\n",
       "      <td>y</td>\n",
       "      <td>2021-09-08 11:00:00+00:00</td>\n",
       "      <td>2021-09-08 12:55:00+00:00</td>\n",
       "      <td>beta</td>\n",
       "      <td>True</td>\n",
       "      <td>40.0</td>\n",
       "      <td>0</td>\n",
       "      <td>b-69</td>\n",
       "    </tr>\n",
       "    <tr>\n",
       "      <th>1</th>\n",
       "      <td>2021-09-01 08:30:19.320999+00:00</td>\n",
       "      <td>x</td>\n",
       "      <td>y</td>\n",
       "      <td>2021-09-08 14:00:00+00:00</td>\n",
       "      <td>2021-09-08 15:55:00+00:00</td>\n",
       "      <td>beta</td>\n",
       "      <td>True</td>\n",
       "      <td>40.0</td>\n",
       "      <td>0</td>\n",
       "      <td>b-9</td>\n",
       "    </tr>\n",
       "    <tr>\n",
       "      <th>2</th>\n",
       "      <td>2021-09-01 08:30:19.320999+00:00</td>\n",
       "      <td>x</td>\n",
       "      <td>y</td>\n",
       "      <td>2021-09-08 05:00:00+00:00</td>\n",
       "      <td>2021-09-08 06:55:00+00:00</td>\n",
       "      <td>beta</td>\n",
       "      <td>True</td>\n",
       "      <td>20.0</td>\n",
       "      <td>0</td>\n",
       "      <td>b-1</td>\n",
       "    </tr>\n",
       "    <tr>\n",
       "      <th>3</th>\n",
       "      <td>2021-09-01 08:30:20.396761+00:00</td>\n",
       "      <td>x</td>\n",
       "      <td>y</td>\n",
       "      <td>2021-09-08 05:30:00+00:00</td>\n",
       "      <td>2021-09-08 07:30:00+00:00</td>\n",
       "      <td>gamma</td>\n",
       "      <td>True</td>\n",
       "      <td>20.0</td>\n",
       "      <td>2</td>\n",
       "      <td>c-2</td>\n",
       "    </tr>\n",
       "    <tr>\n",
       "      <th>4</th>\n",
       "      <td>2021-09-01 08:30:20.396761+00:00</td>\n",
       "      <td>x</td>\n",
       "      <td>y</td>\n",
       "      <td>2021-09-08 05:30:00+00:00</td>\n",
       "      <td>2021-09-08 07:30:00+00:00</td>\n",
       "      <td>gamma</td>\n",
       "      <td>True</td>\n",
       "      <td>20.0</td>\n",
       "      <td>1</td>\n",
       "      <td>c-2</td>\n",
       "    </tr>\n",
       "  </tbody>\n",
       "</table>\n",
       "</div>"
      ],
      "text/plain": [
       "                                 f1 f2 f3                         f4  \\\n",
       "0  2021-09-01 08:30:19.320999+00:00  x  y  2021-09-08 11:00:00+00:00   \n",
       "1  2021-09-01 08:30:19.320999+00:00  x  y  2021-09-08 14:00:00+00:00   \n",
       "2  2021-09-01 08:30:19.320999+00:00  x  y  2021-09-08 05:00:00+00:00   \n",
       "3  2021-09-01 08:30:20.396761+00:00  x  y  2021-09-08 05:30:00+00:00   \n",
       "4  2021-09-01 08:30:20.396761+00:00  x  y  2021-09-08 05:30:00+00:00   \n",
       "\n",
       "                          f5     f6    f7    f8  f9   f10  \n",
       "0  2021-09-08 12:55:00+00:00   beta  True  40.0   0  b-69  \n",
       "1  2021-09-08 15:55:00+00:00   beta  True  40.0   0   b-9  \n",
       "2  2021-09-08 06:55:00+00:00   beta  True  20.0   0   b-1  \n",
       "3  2021-09-08 07:30:00+00:00  gamma  True  20.0   2   c-2  \n",
       "4  2021-09-08 07:30:00+00:00  gamma  True  20.0   1   c-2  "
      ]
     },
     "execution_count": 9,
     "metadata": {},
     "output_type": "execute_result"
    }
   ],
   "source": [
    "#checking total number of rows and columns\n",
    "print(df_X_test.shape) \n",
    "#Initial structure of the data\n",
    "df_X_test.head()"
   ]
  },
  {
   "cell_type": "code",
   "execution_count": 10,
   "id": "05b09074",
   "metadata": {},
   "outputs": [
    {
     "data": {
      "text/plain": [
       "f1     0\n",
       "f2     0\n",
       "f3     0\n",
       "f4     0\n",
       "f5     0\n",
       "f6     0\n",
       "f7     0\n",
       "f8     0\n",
       "f9     0\n",
       "f10    0\n",
       "dtype: int64"
      ]
     },
     "execution_count": 10,
     "metadata": {},
     "output_type": "execute_result"
    }
   ],
   "source": [
    "#finding the null values\n",
    "df_X_test.isnull().sum()"
   ]
  },
  {
   "cell_type": "code",
   "execution_count": 11,
   "id": "17cb3bf3",
   "metadata": {},
   "outputs": [],
   "source": [
    "# loading y_train.csv file\n",
    "df_y_train = pd.read_csv(\"y_train.csv\")"
   ]
  },
  {
   "cell_type": "code",
   "execution_count": 12,
   "id": "f1c40784",
   "metadata": {},
   "outputs": [
    {
     "data": {
      "text/html": [
       "<div>\n",
       "<style scoped>\n",
       "    .dataframe tbody tr th:only-of-type {\n",
       "        vertical-align: middle;\n",
       "    }\n",
       "\n",
       "    .dataframe tbody tr th {\n",
       "        vertical-align: top;\n",
       "    }\n",
       "\n",
       "    .dataframe thead th {\n",
       "        text-align: right;\n",
       "    }\n",
       "</style>\n",
       "<table border=\"1\" class=\"dataframe\">\n",
       "  <thead>\n",
       "    <tr style=\"text-align: right;\">\n",
       "      <th></th>\n",
       "      <th>Unnamed: 0</th>\n",
       "      <th>target</th>\n",
       "    </tr>\n",
       "  </thead>\n",
       "  <tbody>\n",
       "    <tr>\n",
       "      <th>0</th>\n",
       "      <td>0</td>\n",
       "      <td>7400.0</td>\n",
       "    </tr>\n",
       "    <tr>\n",
       "      <th>1</th>\n",
       "      <td>1</td>\n",
       "      <td>8650.0</td>\n",
       "    </tr>\n",
       "    <tr>\n",
       "      <th>2</th>\n",
       "      <td>2</td>\n",
       "      <td>9150.0</td>\n",
       "    </tr>\n",
       "    <tr>\n",
       "      <th>3</th>\n",
       "      <td>3</td>\n",
       "      <td>10400.0</td>\n",
       "    </tr>\n",
       "    <tr>\n",
       "      <th>4</th>\n",
       "      <td>4</td>\n",
       "      <td>8697.0</td>\n",
       "    </tr>\n",
       "  </tbody>\n",
       "</table>\n",
       "</div>"
      ],
      "text/plain": [
       "   Unnamed: 0   target\n",
       "0           0   7400.0\n",
       "1           1   8650.0\n",
       "2           2   9150.0\n",
       "3           3  10400.0\n",
       "4           4   8697.0"
      ]
     },
     "execution_count": 12,
     "metadata": {},
     "output_type": "execute_result"
    }
   ],
   "source": [
    "#Initial structure of the data\n",
    "df_y_train.head()"
   ]
  },
  {
   "cell_type": "code",
   "execution_count": 13,
   "id": "61d52ffe",
   "metadata": {},
   "outputs": [],
   "source": [
    "#Remove unwanted column\n",
    "df_y_train.drop(['Unnamed: 0'],axis=1, inplace=True)"
   ]
  },
  {
   "cell_type": "code",
   "execution_count": 14,
   "id": "c4534ab6",
   "metadata": {},
   "outputs": [
    {
     "name": "stdout",
     "output_type": "stream",
     "text": [
      "<class 'pandas.core.frame.DataFrame'>\n",
      "RangeIndex: 21776590 entries, 0 to 21776589\n",
      "Data columns (total 1 columns):\n",
      " #   Column  Dtype  \n",
      "---  ------  -----  \n",
      " 0   target  float64\n",
      "dtypes: float64(1)\n",
      "memory usage: 166.1 MB\n"
     ]
    }
   ],
   "source": [
    "#information about the data\n",
    "df_y_train.info() "
   ]
  },
  {
   "cell_type": "code",
   "execution_count": 15,
   "id": "5367c221",
   "metadata": {},
   "outputs": [
    {
     "data": {
      "text/html": [
       "<div>\n",
       "<style scoped>\n",
       "    .dataframe tbody tr th:only-of-type {\n",
       "        vertical-align: middle;\n",
       "    }\n",
       "\n",
       "    .dataframe tbody tr th {\n",
       "        vertical-align: top;\n",
       "    }\n",
       "\n",
       "    .dataframe thead th {\n",
       "        text-align: right;\n",
       "    }\n",
       "</style>\n",
       "<table border=\"1\" class=\"dataframe\">\n",
       "  <thead>\n",
       "    <tr style=\"text-align: right;\">\n",
       "      <th></th>\n",
       "      <th>target</th>\n",
       "    </tr>\n",
       "  </thead>\n",
       "  <tbody>\n",
       "    <tr>\n",
       "      <th>count</th>\n",
       "      <td>2.177659e+07</td>\n",
       "    </tr>\n",
       "    <tr>\n",
       "      <th>mean</th>\n",
       "      <td>1.013705e+04</td>\n",
       "    </tr>\n",
       "    <tr>\n",
       "      <th>std</th>\n",
       "      <td>3.447472e+03</td>\n",
       "    </tr>\n",
       "    <tr>\n",
       "      <th>min</th>\n",
       "      <td>0.000000e+00</td>\n",
       "    </tr>\n",
       "    <tr>\n",
       "      <th>25%</th>\n",
       "      <td>7.796000e+03</td>\n",
       "    </tr>\n",
       "    <tr>\n",
       "      <th>50%</th>\n",
       "      <td>9.380000e+03</td>\n",
       "    </tr>\n",
       "    <tr>\n",
       "      <th>75%</th>\n",
       "      <td>1.124500e+04</td>\n",
       "    </tr>\n",
       "    <tr>\n",
       "      <th>max</th>\n",
       "      <td>3.500000e+04</td>\n",
       "    </tr>\n",
       "  </tbody>\n",
       "</table>\n",
       "</div>"
      ],
      "text/plain": [
       "             target\n",
       "count  2.177659e+07\n",
       "mean   1.013705e+04\n",
       "std    3.447472e+03\n",
       "min    0.000000e+00\n",
       "25%    7.796000e+03\n",
       "50%    9.380000e+03\n",
       "75%    1.124500e+04\n",
       "max    3.500000e+04"
      ]
     },
     "execution_count": 15,
     "metadata": {},
     "output_type": "execute_result"
    }
   ],
   "source": [
    "#describe about the data\n",
    "df_y_train.describe()"
   ]
  },
  {
   "cell_type": "code",
   "execution_count": 16,
   "id": "55594733",
   "metadata": {},
   "outputs": [
    {
     "name": "stdout",
     "output_type": "stream",
     "text": [
      "(21776590, 1)\n"
     ]
    }
   ],
   "source": [
    "#checking total number of rows and columns\n",
    "print(df_y_train.shape) "
   ]
  },
  {
   "cell_type": "code",
   "execution_count": 17,
   "id": "ade86555",
   "metadata": {},
   "outputs": [
    {
     "data": {
      "text/html": [
       "<div>\n",
       "<style scoped>\n",
       "    .dataframe tbody tr th:only-of-type {\n",
       "        vertical-align: middle;\n",
       "    }\n",
       "\n",
       "    .dataframe tbody tr th {\n",
       "        vertical-align: top;\n",
       "    }\n",
       "\n",
       "    .dataframe thead th {\n",
       "        text-align: right;\n",
       "    }\n",
       "</style>\n",
       "<table border=\"1\" class=\"dataframe\">\n",
       "  <thead>\n",
       "    <tr style=\"text-align: right;\">\n",
       "      <th></th>\n",
       "      <th>target</th>\n",
       "    </tr>\n",
       "  </thead>\n",
       "  <tbody>\n",
       "    <tr>\n",
       "      <th>0</th>\n",
       "      <td>7400.0</td>\n",
       "    </tr>\n",
       "    <tr>\n",
       "      <th>1</th>\n",
       "      <td>8650.0</td>\n",
       "    </tr>\n",
       "    <tr>\n",
       "      <th>2</th>\n",
       "      <td>9150.0</td>\n",
       "    </tr>\n",
       "    <tr>\n",
       "      <th>3</th>\n",
       "      <td>10400.0</td>\n",
       "    </tr>\n",
       "    <tr>\n",
       "      <th>4</th>\n",
       "      <td>8697.0</td>\n",
       "    </tr>\n",
       "  </tbody>\n",
       "</table>\n",
       "</div>"
      ],
      "text/plain": [
       "    target\n",
       "0   7400.0\n",
       "1   8650.0\n",
       "2   9150.0\n",
       "3  10400.0\n",
       "4   8697.0"
      ]
     },
     "execution_count": 17,
     "metadata": {},
     "output_type": "execute_result"
    }
   ],
   "source": [
    "#Initial structure of the data\n",
    "df_y_train.head()"
   ]
  },
  {
   "cell_type": "code",
   "execution_count": 18,
   "id": "2c55be1e",
   "metadata": {},
   "outputs": [
    {
     "data": {
      "text/plain": [
       "target    0\n",
       "dtype: int64"
      ]
     },
     "execution_count": 18,
     "metadata": {},
     "output_type": "execute_result"
    }
   ],
   "source": [
    "#finding the null values\n",
    "df_y_train.isnull().sum()"
   ]
  },
  {
   "cell_type": "code",
   "execution_count": 19,
   "id": "f3af4ece",
   "metadata": {},
   "outputs": [],
   "source": [
    "#Read \n",
    "df_X_train = pd.read_csv(\"X_train.csv\")"
   ]
  },
  {
   "cell_type": "code",
   "execution_count": 20,
   "id": "e42b3883",
   "metadata": {},
   "outputs": [
    {
     "data": {
      "text/html": [
       "<div>\n",
       "<style scoped>\n",
       "    .dataframe tbody tr th:only-of-type {\n",
       "        vertical-align: middle;\n",
       "    }\n",
       "\n",
       "    .dataframe tbody tr th {\n",
       "        vertical-align: top;\n",
       "    }\n",
       "\n",
       "    .dataframe thead th {\n",
       "        text-align: right;\n",
       "    }\n",
       "</style>\n",
       "<table border=\"1\" class=\"dataframe\">\n",
       "  <thead>\n",
       "    <tr style=\"text-align: right;\">\n",
       "      <th></th>\n",
       "      <th>Unnamed: 0</th>\n",
       "      <th>f1</th>\n",
       "      <th>f2</th>\n",
       "      <th>f3</th>\n",
       "      <th>f4</th>\n",
       "      <th>f5</th>\n",
       "      <th>f6</th>\n",
       "      <th>f7</th>\n",
       "      <th>f8</th>\n",
       "      <th>f9</th>\n",
       "      <th>f10</th>\n",
       "    </tr>\n",
       "  </thead>\n",
       "  <tbody>\n",
       "    <tr>\n",
       "      <th>0</th>\n",
       "      <td>0</td>\n",
       "      <td>2020-12-31 09:46:17.463002+00:00</td>\n",
       "      <td>x</td>\n",
       "      <td>y</td>\n",
       "      <td>2021-01-10 05:00:00+00:00</td>\n",
       "      <td>2021-01-10 07:00:00+00:00</td>\n",
       "      <td>gamma</td>\n",
       "      <td>True</td>\n",
       "      <td>0.0</td>\n",
       "      <td>0</td>\n",
       "      <td>c-2</td>\n",
       "    </tr>\n",
       "    <tr>\n",
       "      <th>1</th>\n",
       "      <td>1</td>\n",
       "      <td>2020-12-31 09:46:17.463002+00:00</td>\n",
       "      <td>x</td>\n",
       "      <td>y</td>\n",
       "      <td>2021-01-10 05:00:00+00:00</td>\n",
       "      <td>2021-01-10 07:00:00+00:00</td>\n",
       "      <td>gamma</td>\n",
       "      <td>True</td>\n",
       "      <td>32.0</td>\n",
       "      <td>1</td>\n",
       "      <td>c-2</td>\n",
       "    </tr>\n",
       "    <tr>\n",
       "      <th>2</th>\n",
       "      <td>2</td>\n",
       "      <td>2020-12-31 09:46:17.463002+00:00</td>\n",
       "      <td>x</td>\n",
       "      <td>y</td>\n",
       "      <td>2021-01-10 11:00:00+00:00</td>\n",
       "      <td>2021-01-10 13:00:00+00:00</td>\n",
       "      <td>gamma</td>\n",
       "      <td>True</td>\n",
       "      <td>32.0</td>\n",
       "      <td>1</td>\n",
       "      <td>c-4</td>\n",
       "    </tr>\n",
       "    <tr>\n",
       "      <th>3</th>\n",
       "      <td>3</td>\n",
       "      <td>2020-12-31 09:46:17.463002+00:00</td>\n",
       "      <td>x</td>\n",
       "      <td>y</td>\n",
       "      <td>2021-01-10 11:00:00+00:00</td>\n",
       "      <td>2021-01-10 13:00:00+00:00</td>\n",
       "      <td>gamma</td>\n",
       "      <td>True</td>\n",
       "      <td>32.0</td>\n",
       "      <td>2</td>\n",
       "      <td>c-4</td>\n",
       "    </tr>\n",
       "    <tr>\n",
       "      <th>4</th>\n",
       "      <td>4</td>\n",
       "      <td>2020-12-31 09:46:18.191119+00:00</td>\n",
       "      <td>x</td>\n",
       "      <td>y</td>\n",
       "      <td>2021-01-25 11:00:00+00:00</td>\n",
       "      <td>2021-01-25 12:55:00+00:00</td>\n",
       "      <td>beta</td>\n",
       "      <td>False</td>\n",
       "      <td>20.0</td>\n",
       "      <td>0</td>\n",
       "      <td>b-69</td>\n",
       "    </tr>\n",
       "    <tr>\n",
       "      <th>5</th>\n",
       "      <td>5</td>\n",
       "      <td>2020-12-31 09:46:18.191119+00:00</td>\n",
       "      <td>x</td>\n",
       "      <td>y</td>\n",
       "      <td>2021-01-25 05:00:00+00:00</td>\n",
       "      <td>2021-01-25 06:55:00+00:00</td>\n",
       "      <td>beta</td>\n",
       "      <td>False</td>\n",
       "      <td>20.0</td>\n",
       "      <td>0</td>\n",
       "      <td>b-1</td>\n",
       "    </tr>\n",
       "    <tr>\n",
       "      <th>6</th>\n",
       "      <td>6</td>\n",
       "      <td>2020-12-31 09:46:18.191119+00:00</td>\n",
       "      <td>x</td>\n",
       "      <td>y</td>\n",
       "      <td>2021-01-25 14:00:00+00:00</td>\n",
       "      <td>2021-01-25 15:55:00+00:00</td>\n",
       "      <td>beta</td>\n",
       "      <td>False</td>\n",
       "      <td>20.0</td>\n",
       "      <td>0</td>\n",
       "      <td>b-9</td>\n",
       "    </tr>\n",
       "    <tr>\n",
       "      <th>7</th>\n",
       "      <td>7</td>\n",
       "      <td>2020-12-31 09:46:18.191119+00:00</td>\n",
       "      <td>x</td>\n",
       "      <td>y</td>\n",
       "      <td>2021-01-25 16:00:00+00:00</td>\n",
       "      <td>2021-01-25 17:55:00+00:00</td>\n",
       "      <td>beta</td>\n",
       "      <td>False</td>\n",
       "      <td>20.0</td>\n",
       "      <td>0</td>\n",
       "      <td>b-19</td>\n",
       "    </tr>\n",
       "    <tr>\n",
       "      <th>8</th>\n",
       "      <td>8</td>\n",
       "      <td>2020-12-31 09:46:19.878719+00:00</td>\n",
       "      <td>x</td>\n",
       "      <td>y</td>\n",
       "      <td>2021-01-25 11:00:00+00:00</td>\n",
       "      <td>2021-01-25 13:00:00+00:00</td>\n",
       "      <td>gamma</td>\n",
       "      <td>True</td>\n",
       "      <td>32.0</td>\n",
       "      <td>2</td>\n",
       "      <td>c-4</td>\n",
       "    </tr>\n",
       "    <tr>\n",
       "      <th>9</th>\n",
       "      <td>9</td>\n",
       "      <td>2020-12-31 09:46:19.878719+00:00</td>\n",
       "      <td>x</td>\n",
       "      <td>y</td>\n",
       "      <td>2021-01-25 11:00:00+00:00</td>\n",
       "      <td>2021-01-25 13:00:00+00:00</td>\n",
       "      <td>gamma</td>\n",
       "      <td>True</td>\n",
       "      <td>32.0</td>\n",
       "      <td>1</td>\n",
       "      <td>c-4</td>\n",
       "    </tr>\n",
       "  </tbody>\n",
       "</table>\n",
       "</div>"
      ],
      "text/plain": [
       "   Unnamed: 0                                f1 f2 f3  \\\n",
       "0           0  2020-12-31 09:46:17.463002+00:00  x  y   \n",
       "1           1  2020-12-31 09:46:17.463002+00:00  x  y   \n",
       "2           2  2020-12-31 09:46:17.463002+00:00  x  y   \n",
       "3           3  2020-12-31 09:46:17.463002+00:00  x  y   \n",
       "4           4  2020-12-31 09:46:18.191119+00:00  x  y   \n",
       "5           5  2020-12-31 09:46:18.191119+00:00  x  y   \n",
       "6           6  2020-12-31 09:46:18.191119+00:00  x  y   \n",
       "7           7  2020-12-31 09:46:18.191119+00:00  x  y   \n",
       "8           8  2020-12-31 09:46:19.878719+00:00  x  y   \n",
       "9           9  2020-12-31 09:46:19.878719+00:00  x  y   \n",
       "\n",
       "                          f4                         f5     f6     f7    f8  \\\n",
       "0  2021-01-10 05:00:00+00:00  2021-01-10 07:00:00+00:00  gamma   True   0.0   \n",
       "1  2021-01-10 05:00:00+00:00  2021-01-10 07:00:00+00:00  gamma   True  32.0   \n",
       "2  2021-01-10 11:00:00+00:00  2021-01-10 13:00:00+00:00  gamma   True  32.0   \n",
       "3  2021-01-10 11:00:00+00:00  2021-01-10 13:00:00+00:00  gamma   True  32.0   \n",
       "4  2021-01-25 11:00:00+00:00  2021-01-25 12:55:00+00:00   beta  False  20.0   \n",
       "5  2021-01-25 05:00:00+00:00  2021-01-25 06:55:00+00:00   beta  False  20.0   \n",
       "6  2021-01-25 14:00:00+00:00  2021-01-25 15:55:00+00:00   beta  False  20.0   \n",
       "7  2021-01-25 16:00:00+00:00  2021-01-25 17:55:00+00:00   beta  False  20.0   \n",
       "8  2021-01-25 11:00:00+00:00  2021-01-25 13:00:00+00:00  gamma   True  32.0   \n",
       "9  2021-01-25 11:00:00+00:00  2021-01-25 13:00:00+00:00  gamma   True  32.0   \n",
       "\n",
       "   f9   f10  \n",
       "0   0   c-2  \n",
       "1   1   c-2  \n",
       "2   1   c-4  \n",
       "3   2   c-4  \n",
       "4   0  b-69  \n",
       "5   0   b-1  \n",
       "6   0   b-9  \n",
       "7   0  b-19  \n",
       "8   2   c-4  \n",
       "9   1   c-4  "
      ]
     },
     "execution_count": 20,
     "metadata": {},
     "output_type": "execute_result"
    }
   ],
   "source": [
    "#Initial structure of the data\n",
    "df_X_train.head(10)"
   ]
  },
  {
   "cell_type": "code",
   "execution_count": 21,
   "id": "10824adf",
   "metadata": {},
   "outputs": [
    {
     "name": "stdout",
     "output_type": "stream",
     "text": [
      "<class 'pandas.core.frame.DataFrame'>\n",
      "RangeIndex: 21776590 entries, 0 to 21776589\n",
      "Data columns (total 11 columns):\n",
      " #   Column      Dtype  \n",
      "---  ------      -----  \n",
      " 0   Unnamed: 0  int64  \n",
      " 1   f1          object \n",
      " 2   f2          object \n",
      " 3   f3          object \n",
      " 4   f4          object \n",
      " 5   f5          object \n",
      " 6   f6          object \n",
      " 7   f7          bool   \n",
      " 8   f8          float64\n",
      " 9   f9          int64  \n",
      " 10  f10         object \n",
      "dtypes: bool(1), float64(1), int64(2), object(7)\n",
      "memory usage: 1.6+ GB\n"
     ]
    }
   ],
   "source": [
    "#information about the data\n",
    "df_X_train.info() "
   ]
  },
  {
   "cell_type": "code",
   "execution_count": 22,
   "id": "4ffe9f6a",
   "metadata": {},
   "outputs": [
    {
     "data": {
      "text/html": [
       "<div>\n",
       "<style scoped>\n",
       "    .dataframe tbody tr th:only-of-type {\n",
       "        vertical-align: middle;\n",
       "    }\n",
       "\n",
       "    .dataframe tbody tr th {\n",
       "        vertical-align: top;\n",
       "    }\n",
       "\n",
       "    .dataframe thead th {\n",
       "        text-align: right;\n",
       "    }\n",
       "</style>\n",
       "<table border=\"1\" class=\"dataframe\">\n",
       "  <thead>\n",
       "    <tr style=\"text-align: right;\">\n",
       "      <th></th>\n",
       "      <th>Unnamed: 0</th>\n",
       "      <th>f8</th>\n",
       "      <th>f9</th>\n",
       "    </tr>\n",
       "  </thead>\n",
       "  <tbody>\n",
       "    <tr>\n",
       "      <th>count</th>\n",
       "      <td>2.177659e+07</td>\n",
       "      <td>2.177659e+07</td>\n",
       "      <td>2.177659e+07</td>\n",
       "    </tr>\n",
       "    <tr>\n",
       "      <th>mean</th>\n",
       "      <td>1.088829e+07</td>\n",
       "      <td>2.258956e+01</td>\n",
       "      <td>9.491727e-01</td>\n",
       "    </tr>\n",
       "    <tr>\n",
       "      <th>std</th>\n",
       "      <td>6.286360e+06</td>\n",
       "      <td>8.885366e+00</td>\n",
       "      <td>6.077294e-01</td>\n",
       "    </tr>\n",
       "    <tr>\n",
       "      <th>min</th>\n",
       "      <td>0.000000e+00</td>\n",
       "      <td>0.000000e+00</td>\n",
       "      <td>0.000000e+00</td>\n",
       "    </tr>\n",
       "    <tr>\n",
       "      <th>25%</th>\n",
       "      <td>5.444147e+06</td>\n",
       "      <td>2.000000e+01</td>\n",
       "      <td>1.000000e+00</td>\n",
       "    </tr>\n",
       "    <tr>\n",
       "      <th>50%</th>\n",
       "      <td>1.088829e+07</td>\n",
       "      <td>2.000000e+01</td>\n",
       "      <td>1.000000e+00</td>\n",
       "    </tr>\n",
       "    <tr>\n",
       "      <th>75%</th>\n",
       "      <td>1.633244e+07</td>\n",
       "      <td>3.200000e+01</td>\n",
       "      <td>1.000000e+00</td>\n",
       "    </tr>\n",
       "    <tr>\n",
       "      <th>max</th>\n",
       "      <td>2.177659e+07</td>\n",
       "      <td>4.500000e+01</td>\n",
       "      <td>2.000000e+00</td>\n",
       "    </tr>\n",
       "  </tbody>\n",
       "</table>\n",
       "</div>"
      ],
      "text/plain": [
       "         Unnamed: 0            f8            f9\n",
       "count  2.177659e+07  2.177659e+07  2.177659e+07\n",
       "mean   1.088829e+07  2.258956e+01  9.491727e-01\n",
       "std    6.286360e+06  8.885366e+00  6.077294e-01\n",
       "min    0.000000e+00  0.000000e+00  0.000000e+00\n",
       "25%    5.444147e+06  2.000000e+01  1.000000e+00\n",
       "50%    1.088829e+07  2.000000e+01  1.000000e+00\n",
       "75%    1.633244e+07  3.200000e+01  1.000000e+00\n",
       "max    2.177659e+07  4.500000e+01  2.000000e+00"
      ]
     },
     "execution_count": 22,
     "metadata": {},
     "output_type": "execute_result"
    }
   ],
   "source": [
    "#describe about the data\n",
    "df_X_train.describe()"
   ]
  },
  {
   "cell_type": "code",
   "execution_count": 23,
   "id": "a01acb67",
   "metadata": {},
   "outputs": [
    {
     "data": {
      "text/plain": [
       "Unnamed: 0    0\n",
       "f1            0\n",
       "f2            0\n",
       "f3            0\n",
       "f4            0\n",
       "f5            0\n",
       "f6            0\n",
       "f7            0\n",
       "f8            0\n",
       "f9            0\n",
       "f10           0\n",
       "dtype: int64"
      ]
     },
     "execution_count": 23,
     "metadata": {},
     "output_type": "execute_result"
    }
   ],
   "source": [
    "#finding the null values\n",
    "df_X_train.isnull().sum()"
   ]
  },
  {
   "cell_type": "code",
   "execution_count": 24,
   "id": "e329e259",
   "metadata": {},
   "outputs": [
    {
     "data": {
      "text/plain": [
       "True"
      ]
     },
     "execution_count": 24,
     "metadata": {},
     "output_type": "execute_result"
    }
   ],
   "source": [
    "# Checking row of x and y train data set\n",
    "df_X_train.shape[0] == df_y_train.shape[0]"
   ]
  },
  {
   "cell_type": "code",
   "execution_count": 25,
   "id": "2530734b",
   "metadata": {},
   "outputs": [],
   "source": [
    "# Logical names to the columns \n",
    "test_columns = [\"Ticket Purchase Date Time\",\"Origin\",\"Destination\",\"Departure Date Time\",\n",
    "                    \"Arrival Date Time\",\"Airline\",\"Refundable Ticket\",\"Baggage Weight\",\"Baggage Pieces\",\n",
    "                    \"Flight Number\"]\n",
    "def assignColumns(df):   \n",
    "\n",
    "     # Dropif we have extra unused column\n",
    "    if 'Unnamed: 0' in df:\n",
    "        df = df.drop(['Unnamed: 0'],axis = 1)\n",
    "    \n",
    "    # Giving logical names to the column for better understanding\n",
    "    df.columns = test_columns\n",
    "    \n",
    "    return df;\n"
   ]
  },
  {
   "cell_type": "markdown",
   "id": "2f0fa6b0",
   "metadata": {},
   "source": [
    "# Data Cleaning & Pre Processing\n",
    "\n"
   ]
  },
  {
   "cell_type": "code",
   "execution_count": 26,
   "id": "0cb18f1a",
   "metadata": {},
   "outputs": [],
   "source": [
    "# defining date time formatter as per data \n",
    "dateTimeFormatter = '%Y-%m-%d %H:%M:%S.%f'\n"
   ]
  },
  {
   "cell_type": "code",
   "execution_count": 27,
   "id": "16bb559d",
   "metadata": {},
   "outputs": [],
   "source": [
    "\n",
    "def prepareData(df):\n",
    "    pd.options.mode.chained_assignment = None \n",
    "    \n",
    "    df = assignColumns(df);\n",
    "    \n",
    "    # The datatypes of \"Ticket Purchase Date Time\",\"Departure Date Time\" and \"Arrival Date Time\" is object.So,firstly we convert it into date and time for proper predicion.\n",
    "    # dt.day method will extract only day of that date\n",
    "    # dt.month method will extract only month of that date\n",
    "    # dt.year method will extract only year of that date\n",
    "    # dt.hour method will extract only hour of that date\n",
    "    # dt.minute method will extract only minute of that date    \n",
    "    \n",
    "    df[[test_columns[0],test_columns[3],test_columns[4]]] = df[[test_columns[0],test_columns[3],test_columns[4]]].apply(pd.to_datetime, format=dateTimeFormatter)\n",
    "    #seperating \n",
    "    df[\"Ticket Purchase Day\"] = pd.to_datetime(df[test_columns[0]],format=dateTimeFormatter).dt.day\n",
    "    df[\"Ticket Purchase Month\"] = pd.to_datetime(df[test_columns[0]],format=dateTimeFormatter).dt.month\n",
    "    df[\"Ticket Purchase Year\"] = pd.to_datetime(df[test_columns[0]],format=dateTimeFormatter).dt.year\n",
    "    df[\"Ticket Purchase Hour\"] = pd.to_datetime(df[test_columns[0]],format=dateTimeFormatter).dt.hour\n",
    "    df[\"Ticket Purchase_Minute\"] = pd.to_datetime(df[test_columns[0]],format=dateTimeFormatter).dt.minute\n",
    "\n",
    "    df[\"Departure Day\"] = pd.to_datetime(df[test_columns[3]],format=dateTimeFormatter).dt.day\n",
    "    df[\"Departure Month\"] = pd.to_datetime(df[test_columns[3]],format=dateTimeFormatter).dt.month\n",
    "    df[\"Departure Year\"] = pd.to_datetime(df[test_columns[3]],format=dateTimeFormatter).dt.year\n",
    "    df[\"Departure Hour\"] = pd.to_datetime(df[test_columns[3]],format=dateTimeFormatter).dt.hour\n",
    "    df[\"Departure Minute\"] = pd.to_datetime(df[test_columns[3]],format=dateTimeFormatter).dt.minute\n",
    "    \n",
    "    df[\"Arrival Day\"] = pd.to_datetime(df[test_columns[4]],format=dateTimeFormatter).dt.day\n",
    "    df[\"Arrival Month\"] = pd.to_datetime(df[test_columns[4]],format=dateTimeFormatter).dt.month\n",
    "    df[\"Arrival Year\"] = pd.to_datetime(df[test_columns[4]],format=dateTimeFormatter).dt.year\n",
    "    df[\"Arrival Hour\"] = pd.to_datetime(df[test_columns[4]],format=dateTimeFormatter).dt.hour\n",
    "    df[\"Arrival Minute\"] = pd.to_datetime(df[test_columns[4]],format=dateTimeFormatter).dt.minute\n",
    "\n",
    "    # Calculating flight duration  by DepartHour and Arrival hours and minutes\n",
    "    DepartHours = df[\"Departure Hour\"] + (df[\"Departure Minute\"]/60)\n",
    "    ArrivalHours = df[\"Arrival Hour\"] + (df[\"Arrival Minute\"]/60)\n",
    "    \n",
    "    # Adding flight duration column in dataframe\n",
    "    #df[\"FlightDuration\"] = ArrivalHours - DepartHours\n",
    "    \n",
    "    # From \"Ticket Purchase Date Time\",\"Departure Date Time\" and \"Arrival Date Time\" features, we extract day,month, year, hour and minute and stored in new columns and drop these columns¶\n",
    "    df.drop([test_columns[0],test_columns[1],test_columns[2],test_columns[3], test_columns[4]], axis = 1, inplace = True)\n",
    "    \n",
    "    # As \"Flight Number\" is Nominal Categorical data we will perform OneHotEncoding\n",
    "    #FlightNumber = pd.get_dummies(df[test_columns[9]], drop_first= True) \n",
    "    \n",
    "    # Perform label encoding on \"Refundable Ticket\", \"Airline\" and  \"Baggage Pieces\" data\n",
    "    df.replace({True: 1, False: 0}, inplace = True)\n",
    "    #df.replace({'alpha': 0, 'gamma': 1, \"beta\":2,\"omega\":3}, inplace = True)\n",
    "    df.replace({0: 0, 15:1, 20:2, 32:3, 35:4, 40:5, 45:6}, inplace = True)\n",
    "\n",
    "    # Concatenate OneHotEncoding data\n",
    "    #df = pd.concat([df, FlightNumber], axis = 1)\n",
    "    \n",
    "    # Drop \"Flight Number\" as new OneHotEncoding column is already added \n",
    "    #df.drop([test_columns[9]], axis = 1, inplace = True)\n",
    "\n",
    "    # return clean dataframe\n",
    "    return df\n"
   ]
  },
  {
   "cell_type": "code",
   "execution_count": 28,
   "id": "e154a143",
   "metadata": {},
   "outputs": [],
   "source": [
    "df_X_test = prepareData(df_X_test)"
   ]
  },
  {
   "cell_type": "code",
   "execution_count": 29,
   "id": "a601720c",
   "metadata": {},
   "outputs": [],
   "source": [
    "df_X_train = prepareData(df_X_train)"
   ]
  },
  {
   "cell_type": "code",
   "execution_count": 30,
   "id": "6866903d",
   "metadata": {},
   "outputs": [],
   "source": [
    "col = df_X_train.columns"
   ]
  },
  {
   "cell_type": "markdown",
   "id": "65d3a2b3",
   "metadata": {},
   "source": [
    "# Count of flights with different Airlines"
   ]
  },
  {
   "cell_type": "code",
   "execution_count": null,
   "id": "8302bbdd",
   "metadata": {},
   "outputs": [],
   "source": [
    "plt.figure(figsize = (10, 7))\n",
    "plt.title('Count of flights with different Airlines')\n",
    "ax=sns.countplot(x = 'Airline', data = df_X_train)\n",
    "plt.xlabel('Airline')\n",
    "plt.ylabel('Count of flights')\n",
    "plt.xticks(rotation = 90)\n",
    "for p in ax.patches:\n",
    "    ax.annotate(int(p.get_height()), (p.get_x()+0.25, p.get_height()+1), va='bottom',\n",
    "                    color= 'black')"
   ]
  },
  {
   "cell_type": "markdown",
   "id": "22df9e54",
   "metadata": {},
   "source": [
    "# Group by Airline"
   ]
  },
  {
   "cell_type": "code",
   "execution_count": null,
   "id": "ea08e897",
   "metadata": {},
   "outputs": [],
   "source": [
    "df_X_train.groupby('Airline').sum()\n"
   ]
  },
  {
   "cell_type": "markdown",
   "id": "312cf547",
   "metadata": {},
   "source": [
    "# Airline vs Price"
   ]
  },
  {
   "cell_type": "code",
   "execution_count": 14,
   "id": "5c96ba4f",
   "metadata": {},
   "outputs": [],
   "source": [
    "df_X_train['Price'] = df_y_train['target']"
   ]
  },
  {
   "cell_type": "code",
   "execution_count": null,
   "id": "343721b5",
   "metadata": {},
   "outputs": [],
   "source": [
    "fig = px.histogram(df_X_train, \n",
    "                   x='Price', \n",
    "                   marginal='box', \n",
    "                   color='Airline', \n",
    "                   color_discrete_sequence=['green', 'grey','red','orange','blue','blueviolet', 'brown', 'burlywood', 'chocolate', 'darkblue','olive','pink'], \n",
    "                   title='Airline vs Price')\n",
    "fig.update_layout(bargap=0.1)\n",
    "fig.show()"
   ]
  },
  {
   "cell_type": "markdown",
   "id": "87d2f35e",
   "metadata": {},
   "source": [
    "# Flight Number vs Price"
   ]
  },
  {
   "cell_type": "code",
   "execution_count": null,
   "id": "0197ff4b",
   "metadata": {},
   "outputs": [],
   "source": [
    "plt.figure(figsize=(15,8))\n",
    "sns.boxplot(x='Flight Number',y='Price',data=df_X_train.sort_values('Price',ascending=False))"
   ]
  },
  {
   "cell_type": "markdown",
   "id": "d002ba8d",
   "metadata": {},
   "source": [
    "# Airline, Flight Number and Price visualization with 3D view¶\n"
   ]
  },
  {
   "cell_type": "code",
   "execution_count": null,
   "id": "0dd6255d",
   "metadata": {},
   "outputs": [],
   "source": [
    "fig = px.scatter_3d(df_X_train, x='Airline', y='Flight Number', z='Price')\n",
    "fig.update_traces(marker_size=3, marker_opacity=0.5)\n",
    "fig.show()"
   ]
  },
  {
   "cell_type": "markdown",
   "id": "f2242f05",
   "metadata": {},
   "source": [
    "# Finding corelation "
   ]
  },
  {
   "cell_type": "code",
   "execution_count": null,
   "id": "6dfa0bef",
   "metadata": {},
   "outputs": [],
   "source": [
    "plt.figure(figsize=(18,18))\n",
    "sns.heatmap(df_X_test.corr(),annot=True,cmap='RdYlGn')\n",
    "plt.show()"
   ]
  },
  {
   "cell_type": "markdown",
   "id": "3e53776f",
   "metadata": {},
   "source": [
    "# FlightDuration vs Price visualization with scatter plot¶\n"
   ]
  },
  {
   "cell_type": "code",
   "execution_count": null,
   "id": "2c52b650",
   "metadata": {},
   "outputs": [],
   "source": [
    "fig = px.scatter(df_X_train, \n",
    "                 x='FlightDuration', \n",
    "                 y='Price', \n",
    "                 #color='Source', \n",
    "                 opacity=0.8, \n",
    "                 hover_data=['Airline'], \n",
    "                 title='Flight Duration vs. Price')\n",
    "fig.update_traces(marker_size=5)\n",
    "fig.show()"
   ]
  },
  {
   "cell_type": "markdown",
   "id": "cb7c0139",
   "metadata": {},
   "source": [
    "# Frequency of Flight based on Arrival and Departure  day and month"
   ]
  },
  {
   "cell_type": "code",
   "execution_count": null,
   "id": "c07b37de",
   "metadata": {},
   "outputs": [],
   "source": [
    "fig = plt.figure(figsize=(15,25))\n",
    "plt.subplot(221) \n",
    "plt.hist(df_X_train['Arrival Day'] , bins=12)\n",
    "plt.xlabel('Departure Day',fontsize = 15 , fontweight='bold' , fontstyle='italic')\n",
    "plt.ylabel('Frequency',fontsize = 15 , fontweight='bold' , fontstyle='italic')\n",
    "\n",
    "plt.subplot(222) \n",
    "plt.hist(df_X_train['Arrival Month'] , bins=12)\n",
    "plt.xlabel('Arrival Month',fontsize = 15 , fontweight='bold' , fontstyle='italic')\n",
    "plt.ylabel('Frequency',fontsize = 15 , fontweight='bold' , fontstyle='italic')\n",
    "\n",
    "plt.subplot(223) \n",
    "plt.hist(df_X_train['Departure Day'] , bins=12)\n",
    "plt.xlabel('Departure Day',fontsize = 15 , fontweight='bold' , fontstyle='italic')\n",
    "plt.ylabel('Frequency',fontsize = 15 , fontweight='bold' , fontstyle='italic')\n",
    "\n",
    "\n",
    "plt.subplot(224) \n",
    "plt.hist(df_X_train['Departure Month'] , bins=12)\n",
    "plt.xlabel('Arrival Month',fontsize = 15 , fontweight='bold' , fontstyle='italic')\n",
    "plt.ylabel('Frequency',fontsize = 15 , fontweight='bold' , fontstyle='italic')\n",
    "\n",
    "\n",
    "plt.show()"
   ]
  },
  {
   "cell_type": "markdown",
   "id": "509f26b9",
   "metadata": {},
   "source": [
    "Our observations:\n",
    "\n",
    "- Most flights are in the month of Janruary\n",
    "- Most flights are in 1st week of the all months."
   ]
  },
  {
   "cell_type": "markdown",
   "id": "5e4eaf1b",
   "metadata": {},
   "source": [
    "# Day Expand and Cost visualization with Animation¶\n"
   ]
  },
  {
   "cell_type": "code",
   "execution_count": null,
   "id": "c5fd6657",
   "metadata": {},
   "outputs": [],
   "source": [
    "px.scatter(data_frame=df_X_train,\n",
    "                x= 'Price',\n",
    "                y='Departure Day',\n",
    "                size='Departure Month',\n",
    "                color='FlightDuration',\n",
    "                title= 'Day Expand and Cost',\n",
    "                labels= {'Price': 'Cost','Departure_Day': 'Day Expand'},\n",
    "                log_x= True,\n",
    "                range_y= [0,400],\n",
    "                hover_name= 'Airline',\n",
    "                animation_frame='Price',\n",
    "                height= 400,\n",
    "                size_max=40)"
   ]
  },
  {
   "cell_type": "markdown",
   "id": "3ad5e120",
   "metadata": {},
   "source": [
    "# Feature Selection / Training & Testing Model with Parameter Hypertuning\n"
   ]
  },
  {
   "cell_type": "code",
   "execution_count": null,
   "id": "0a031310",
   "metadata": {},
   "outputs": [],
   "source": [
    "df_X_train.drop(['Price'],axis=1, inplace=True)"
   ]
  },
  {
   "cell_type": "code",
   "execution_count": 31,
   "id": "8f6c4207",
   "metadata": {},
   "outputs": [],
   "source": [
    "#encoding\n",
    "encoder = ce.OrdinalEncoder(cols=col)"
   ]
  },
  {
   "cell_type": "code",
   "execution_count": 32,
   "id": "301b15ca",
   "metadata": {},
   "outputs": [],
   "source": [
    "# Encoding train & test data samples\n",
    "x_train = encoder.fit_transform(df_X_train)\n",
    "x_test = encoder.transform(df_X_test)"
   ]
  },
  {
   "cell_type": "code",
   "execution_count": null,
   "id": "6ee5eda3",
   "metadata": {},
   "outputs": [],
   "source": []
  },
  {
   "cell_type": "code",
   "execution_count": null,
   "id": "1af03314",
   "metadata": {},
   "outputs": [],
   "source": [
    "# We have use a vast number of Models, but if the data is heavy then its recommend to use the models depending on your system.\n",
    "algorithms =  {\n",
    "    \n",
    "    'RandomForestRegressor' : {\n",
    "        'model' : RandomForestRegressor(),\n",
    "        'param' : {\n",
    "            'n_estimators' : [300, 500, 700, 1000, 2100],\n",
    "            'max_depth' : [3, 5, 7, 9, 11, 13, 15],\n",
    "            'max_features' : [\"auto\", \"sqrt\", \"log2\"],\n",
    "            'min_samples_split' : [2, 4, 6, 8]\n",
    "        }\n",
    "    }\n",
    "\n",
    "}"
   ]
  },
  {
   "cell_type": "code",
   "execution_count": null,
   "id": "39f03572",
   "metadata": {},
   "outputs": [],
   "source": [
    "score = []\n",
    "for name, mp in algorithms.items() :\n",
    "    rs = RandomizedSearchCV(estimator = mp['model'], param_distributions = mp['param'], cv = 5, n_jobs=-1, verbose=2)\n",
    "    rs.fit(x_train, df_y_train)\n",
    "    prediction = rs.predict(x_test)\n",
    "    score.append({\n",
    "        'ModelName': name,\n",
    "        'Model': rs,\n",
    "        'Score' : rs.best_score_,\n",
    "        'Params' : rs.best_params_,\n",
    "        'Predictions': prediction\n",
    "    }) "
   ]
  },
  {
   "cell_type": "code",
   "execution_count": null,
   "id": "bd5264e5",
   "metadata": {},
   "outputs": [],
   "source": [
    "ModelScore = pd.DataFrame (score, columns= ['Model', 'Score','Params','Predictions'])"
   ]
  },
  {
   "cell_type": "code",
   "execution_count": null,
   "id": "de1f985d",
   "metadata": {},
   "outputs": [],
   "source": [
    "ModelScore"
   ]
  },
  {
   "cell_type": "markdown",
   "id": "05d44b9c",
   "metadata": {},
   "source": [
    "# Save Model for future use"
   ]
  },
  {
   "cell_type": "code",
   "execution_count": null,
   "id": "150a20fd",
   "metadata": {},
   "outputs": [],
   "source": [
    "# save the model to disk\n",
    "filename = 'finalized_models.sav'\n",
    "pickle.dump(ModelScore, open(filename, 'wb'))\n",
    "\n"
   ]
  },
  {
   "cell_type": "code",
   "execution_count": null,
   "id": "614df648",
   "metadata": {},
   "outputs": [],
   "source": [
    "\n",
    "# load the model from disk\n",
    "loaded_model = pickle.load(open(filename, 'rb'))\n",
    "result = loaded_model.score(X_test, y_test)\n",
    "print(result)"
   ]
  },
  {
   "cell_type": "code",
   "execution_count": 32,
   "id": "8a57f302",
   "metadata": {},
   "outputs": [
    {
     "data": {
      "text/plain": [
       "((21776590, 21), (21776590, 1))"
      ]
     },
     "execution_count": 32,
     "metadata": {},
     "output_type": "execute_result"
    }
   ],
   "source": [
    "x_train.shape,df_y_train.shape"
   ]
  },
  {
   "cell_type": "code",
   "execution_count": null,
   "id": "e170dca8",
   "metadata": {},
   "outputs": [],
   "source": []
  },
  {
   "cell_type": "code",
   "execution_count": null,
   "id": "131fa080",
   "metadata": {},
   "outputs": [],
   "source": []
  },
  {
   "cell_type": "code",
   "execution_count": null,
   "id": "7650f61c",
   "metadata": {},
   "outputs": [],
   "source": [
    "# Random Forest Regressor\n",
    "\n",
    "rfr_model = RandomForestRegressor(n_estimators=1000, n_jobs = -1)\n",
    "\n",
    "rfr_model.fit(x_train,df_y_train)"
   ]
  },
  {
   "cell_type": "code",
   "execution_count": 81,
   "id": "b3886f40",
   "metadata": {},
   "outputs": [
    {
     "data": {
      "text/plain": [
       "((21776590, 21), (21776590, 1))"
      ]
     },
     "execution_count": 81,
     "metadata": {},
     "output_type": "execute_result"
    }
   ],
   "source": [
    "x_train.shape,df_y_train.shape"
   ]
  },
  {
   "cell_type": "code",
   "execution_count": null,
   "id": "2df33aac",
   "metadata": {},
   "outputs": [],
   "source": [
    "# save the model to disk\n",
    "filename = 'rfr_encod_model.sav'\n",
    "pickle.dump(xg_reg, open(filename, 'wb'))"
   ]
  },
  {
   "cell_type": "code",
   "execution_count": null,
   "id": "d36cd205",
   "metadata": {},
   "outputs": [],
   "source": []
  },
  {
   "cell_type": "code",
   "execution_count": null,
   "id": "b6cb3a80",
   "metadata": {},
   "outputs": [],
   "source": []
  },
  {
   "cell_type": "code",
   "execution_count": null,
   "id": "10d115b0",
   "metadata": {},
   "outputs": [],
   "source": [
    "#XGBoost hyper-parameter tuning\n",
    "param_tuning = {'colsample_bytree': 0.7, \n",
    " 'learning_rate': 0.01, \n",
    " 'max_depth': 10, \n",
    " 'min_child_weight': 5,\n",
    " 'n_estimators': 500, \n",
    " 'subsample': 0.5}\n",
    "\n",
    "\n",
    "\n",
    "\n",
    "\n",
    "xgb_model = XGBRegressor()\n",
    "\n",
    "gsearch = GridSearchCV(estimator = xgb_model,\n",
    "                       param_grid = param_tuning,                        \n",
    "                       #scoring = 'neg_mean_absolute_error', #MAE\n",
    "                       #scoring = 'neg_mean_squared_error',  #MSE\n",
    "                       cv = 2,\n",
    "                       n_jobs = -1,\n",
    "                       verbose = 1)\n",
    "\n",
    "gsearch.fit(x_train,df_y_train)\n",
    "\n"
   ]
  },
  {
   "cell_type": "code",
   "execution_count": 50,
   "id": "cf30fe26",
   "metadata": {},
   "outputs": [
    {
     "name": "stdout",
     "output_type": "stream",
     "text": [
      "[12:06:08] WARNING: C:\\Users\\Administrator\\workspace\\xgboost-win64_release_1.1.0\\src\\gbm\\gbtree.cc:139: Tree method is automatically selected to be 'approx' for faster speed. To use old behavior (exact greedy algorithm on single machine), set tree_method to 'exact'.\n"
     ]
    },
    {
     "data": {
      "text/plain": [
       "XGBRegressor(base_score=0.5, booster='gbtree', colsample_bylevel=1,\n",
       "             colsample_bynode=1, colsample_bytree=1, gamma=0, gpu_id=-1,\n",
       "             importance_type='gain', interaction_constraints='',\n",
       "             learning_rate=0.05, max_delta_step=0, max_depth=6,\n",
       "             min_child_weight=1, missing=nan, monotone_constraints='()',\n",
       "             n_estimators=1000, n_jobs=-1, num_parallel_tree=1, random_state=0,\n",
       "             reg_alpha=0, reg_lambda=1, scale_pos_weight=1, subsample=1,\n",
       "             tree_method='approx', validate_parameters=1, verbosity=None)"
      ]
     },
     "execution_count": 50,
     "metadata": {},
     "output_type": "execute_result"
    }
   ],
   "source": [
    "from xgboost import XGBRegressor\n",
    "\n",
    "#xg_reg = XGBRegressor()\n",
    "# Add silent=True to avoid printing out updates with each cycle\n",
    "# Fitting the model\n",
    "#xg_reg.fit(x_train,df_y_train,verbose=False)\n",
    "xg_reg = XGBRegressor(n_estimators=1000, learning_rate=0.05,n_jobs = -1)\n",
    "xg_reg.fit(x_train,df_y_train, verbose=False)\n",
    "# my_model.fit(train_X, train_y, early_stopping_rounds=5, \n",
    "#              eval_set=[(test_X, test_y)], verbose=False)\n"
   ]
  },
  {
   "cell_type": "code",
   "execution_count": 51,
   "id": "4cee6d20",
   "metadata": {},
   "outputs": [],
   "source": [
    "# save the model to disk\n",
    "filename = 'xg_reg.sav'\n",
    "pickle.dump(xg_reg, open(filename, 'wb'))\n"
   ]
  },
  {
   "cell_type": "code",
   "execution_count": null,
   "id": "b6157d00",
   "metadata": {},
   "outputs": [],
   "source": [
    "# y_pred_xgb = xgb_model.predict(X_val)\n",
    "\n",
    "# mae_xgb = mean_absolute_error(y_val, y_pred_xgb)\n",
    "\n",
    "# print(\"MAE: \", mae_xgb)"
   ]
  },
  {
   "cell_type": "code",
   "execution_count": 65,
   "id": "d403e06e",
   "metadata": {},
   "outputs": [],
   "source": [
    "predications = xg_reg.predict(x_train.head())"
   ]
  },
  {
   "cell_type": "code",
   "execution_count": 61,
   "id": "ca9d5d11",
   "metadata": {},
   "outputs": [],
   "source": [
    "predications = np.round(predications,1)"
   ]
  },
  {
   "cell_type": "code",
   "execution_count": 62,
   "id": "7fb951ec",
   "metadata": {},
   "outputs": [],
   "source": [
    "pd.DataFrame(predications).to_csv(\"output.csv\",index=False,header=False)"
   ]
  },
  {
   "cell_type": "code",
   "execution_count": null,
   "id": "f6854143",
   "metadata": {},
   "outputs": [],
   "source": [
    "def generateOutputCSV(model_name, x_test, fileName):\n",
    "    predications = model_name.predict(x_test)\n",
    "    predications = np.round(predications,1)\n",
    "    pd.DataFrame(predications).to_csv(fileName,index=False,header=False)\n",
    "    "
   ]
  },
  {
   "cell_type": "code",
   "execution_count": null,
   "id": "d5574f73",
   "metadata": {},
   "outputs": [],
   "source": []
  },
  {
   "cell_type": "code",
   "execution_count": null,
   "id": "609eff8b",
   "metadata": {},
   "outputs": [],
   "source": []
  },
  {
   "cell_type": "code",
   "execution_count": null,
   "id": "a27ba99c",
   "metadata": {},
   "outputs": [],
   "source": []
  },
  {
   "cell_type": "code",
   "execution_count": 70,
   "id": "186241da",
   "metadata": {},
   "outputs": [
    {
     "data": {
      "text/plain": [
       "(1597.7976358744781, 0.7851961120615718)"
      ]
     },
     "execution_count": 70,
     "metadata": {},
     "output_type": "execute_result"
    }
   ],
   "source": [
    "import math\n",
    "error_xgb = math.sqrt(mean_squared_error(df_y_train, predications))\n",
    "r2Score = metrics.r2_score(df_y_train,predications)\n",
    "error_xgb,r2Score"
   ]
  },
  {
   "cell_type": "code",
   "execution_count": null,
   "id": "8c4c6573",
   "metadata": {},
   "outputs": [],
   "source": [
    "# Xbg Regressor\n",
    "# 78% r2 score\n"
   ]
  },
  {
   "cell_type": "code",
   "execution_count": 69,
   "id": "2092bfd2",
   "metadata": {},
   "outputs": [
    {
     "data": {
      "text/html": [
       "<div>\n",
       "<style scoped>\n",
       "    .dataframe tbody tr th:only-of-type {\n",
       "        vertical-align: middle;\n",
       "    }\n",
       "\n",
       "    .dataframe tbody tr th {\n",
       "        vertical-align: top;\n",
       "    }\n",
       "\n",
       "    .dataframe thead th {\n",
       "        text-align: right;\n",
       "    }\n",
       "</style>\n",
       "<table border=\"1\" class=\"dataframe\">\n",
       "  <thead>\n",
       "    <tr style=\"text-align: right;\">\n",
       "      <th></th>\n",
       "      <th>Airline</th>\n",
       "      <th>Refundable Ticket</th>\n",
       "      <th>Baggage Weight</th>\n",
       "      <th>Baggage Pieces</th>\n",
       "      <th>Flight Number</th>\n",
       "      <th>Ticket Purchase Day</th>\n",
       "      <th>Ticket Purchase Month</th>\n",
       "      <th>Ticket Purchase Year</th>\n",
       "      <th>Ticket Purchase Hour</th>\n",
       "      <th>Ticket Purchase_Minute</th>\n",
       "      <th>Departure Day</th>\n",
       "      <th>Departure Month</th>\n",
       "      <th>Departure Year</th>\n",
       "      <th>Departure Hour</th>\n",
       "      <th>Departure Minute</th>\n",
       "      <th>Arrival Day</th>\n",
       "      <th>Arrival Month</th>\n",
       "      <th>Arrival Year</th>\n",
       "      <th>Arrival Hour</th>\n",
       "      <th>Arrival Minute</th>\n",
       "      <th>FlightDuration</th>\n",
       "    </tr>\n",
       "  </thead>\n",
       "  <tbody>\n",
       "    <tr>\n",
       "      <th>0</th>\n",
       "      <td>1</td>\n",
       "      <td>1</td>\n",
       "      <td>1</td>\n",
       "      <td>1</td>\n",
       "      <td>1</td>\n",
       "      <td>1</td>\n",
       "      <td>1</td>\n",
       "      <td>1</td>\n",
       "      <td>1</td>\n",
       "      <td>1</td>\n",
       "      <td>1</td>\n",
       "      <td>1</td>\n",
       "      <td>1</td>\n",
       "      <td>1</td>\n",
       "      <td>1</td>\n",
       "      <td>1</td>\n",
       "      <td>1</td>\n",
       "      <td>1</td>\n",
       "      <td>1</td>\n",
       "      <td>1</td>\n",
       "      <td>1</td>\n",
       "    </tr>\n",
       "    <tr>\n",
       "      <th>1</th>\n",
       "      <td>1</td>\n",
       "      <td>1</td>\n",
       "      <td>2</td>\n",
       "      <td>2</td>\n",
       "      <td>1</td>\n",
       "      <td>1</td>\n",
       "      <td>1</td>\n",
       "      <td>1</td>\n",
       "      <td>1</td>\n",
       "      <td>1</td>\n",
       "      <td>1</td>\n",
       "      <td>1</td>\n",
       "      <td>1</td>\n",
       "      <td>1</td>\n",
       "      <td>1</td>\n",
       "      <td>1</td>\n",
       "      <td>1</td>\n",
       "      <td>1</td>\n",
       "      <td>1</td>\n",
       "      <td>1</td>\n",
       "      <td>1</td>\n",
       "    </tr>\n",
       "    <tr>\n",
       "      <th>2</th>\n",
       "      <td>1</td>\n",
       "      <td>1</td>\n",
       "      <td>2</td>\n",
       "      <td>2</td>\n",
       "      <td>2</td>\n",
       "      <td>1</td>\n",
       "      <td>1</td>\n",
       "      <td>1</td>\n",
       "      <td>1</td>\n",
       "      <td>1</td>\n",
       "      <td>1</td>\n",
       "      <td>1</td>\n",
       "      <td>1</td>\n",
       "      <td>2</td>\n",
       "      <td>1</td>\n",
       "      <td>1</td>\n",
       "      <td>1</td>\n",
       "      <td>1</td>\n",
       "      <td>2</td>\n",
       "      <td>1</td>\n",
       "      <td>1</td>\n",
       "    </tr>\n",
       "    <tr>\n",
       "      <th>3</th>\n",
       "      <td>1</td>\n",
       "      <td>1</td>\n",
       "      <td>2</td>\n",
       "      <td>3</td>\n",
       "      <td>2</td>\n",
       "      <td>1</td>\n",
       "      <td>1</td>\n",
       "      <td>1</td>\n",
       "      <td>1</td>\n",
       "      <td>1</td>\n",
       "      <td>1</td>\n",
       "      <td>1</td>\n",
       "      <td>1</td>\n",
       "      <td>2</td>\n",
       "      <td>1</td>\n",
       "      <td>1</td>\n",
       "      <td>1</td>\n",
       "      <td>1</td>\n",
       "      <td>2</td>\n",
       "      <td>1</td>\n",
       "      <td>1</td>\n",
       "    </tr>\n",
       "    <tr>\n",
       "      <th>4</th>\n",
       "      <td>2</td>\n",
       "      <td>2</td>\n",
       "      <td>3</td>\n",
       "      <td>1</td>\n",
       "      <td>3</td>\n",
       "      <td>1</td>\n",
       "      <td>1</td>\n",
       "      <td>1</td>\n",
       "      <td>1</td>\n",
       "      <td>1</td>\n",
       "      <td>2</td>\n",
       "      <td>1</td>\n",
       "      <td>1</td>\n",
       "      <td>2</td>\n",
       "      <td>1</td>\n",
       "      <td>2</td>\n",
       "      <td>1</td>\n",
       "      <td>1</td>\n",
       "      <td>3</td>\n",
       "      <td>2</td>\n",
       "      <td>2</td>\n",
       "    </tr>\n",
       "  </tbody>\n",
       "</table>\n",
       "</div>"
      ],
      "text/plain": [
       "   Airline  Refundable Ticket  Baggage Weight  Baggage Pieces  Flight Number  \\\n",
       "0        1                  1               1               1              1   \n",
       "1        1                  1               2               2              1   \n",
       "2        1                  1               2               2              2   \n",
       "3        1                  1               2               3              2   \n",
       "4        2                  2               3               1              3   \n",
       "\n",
       "   Ticket Purchase Day  Ticket Purchase Month  Ticket Purchase Year  \\\n",
       "0                    1                      1                     1   \n",
       "1                    1                      1                     1   \n",
       "2                    1                      1                     1   \n",
       "3                    1                      1                     1   \n",
       "4                    1                      1                     1   \n",
       "\n",
       "   Ticket Purchase Hour  Ticket Purchase_Minute  Departure Day  \\\n",
       "0                     1                       1              1   \n",
       "1                     1                       1              1   \n",
       "2                     1                       1              1   \n",
       "3                     1                       1              1   \n",
       "4                     1                       1              2   \n",
       "\n",
       "   Departure Month  Departure Year  Departure Hour  Departure Minute  \\\n",
       "0                1               1               1                 1   \n",
       "1                1               1               1                 1   \n",
       "2                1               1               2                 1   \n",
       "3                1               1               2                 1   \n",
       "4                1               1               2                 1   \n",
       "\n",
       "   Arrival Day  Arrival Month  Arrival Year  Arrival Hour  Arrival Minute  \\\n",
       "0            1              1             1             1               1   \n",
       "1            1              1             1             1               1   \n",
       "2            1              1             1             2               1   \n",
       "3            1              1             1             2               1   \n",
       "4            2              1             1             3               2   \n",
       "\n",
       "   FlightDuration  \n",
       "0               1  \n",
       "1               1  \n",
       "2               1  \n",
       "3               1  \n",
       "4               2  "
      ]
     },
     "execution_count": 69,
     "metadata": {},
     "output_type": "execute_result"
    }
   ],
   "source": [
    "x_train.head()"
   ]
  },
  {
   "cell_type": "code",
   "execution_count": 78,
   "id": "62df3c3b",
   "metadata": {},
   "outputs": [],
   "source": [
    "\n",
    "# load the model from disk\n",
    "rfr_model = pickle.load(open('rfr_models-org.sav', 'rb'))\n"
   ]
  },
  {
   "cell_type": "code",
   "execution_count": 79,
   "id": "0aff7736",
   "metadata": {},
   "outputs": [],
   "source": [
    "rfr_predictions = rfr_model.predict(x_train)"
   ]
  },
  {
   "cell_type": "code",
   "execution_count": 80,
   "id": "7eeae55a",
   "metadata": {},
   "outputs": [
    {
     "data": {
      "text/plain": [
       "(4971.536356115874, -1.0796000955903997)"
      ]
     },
     "execution_count": 80,
     "metadata": {},
     "output_type": "execute_result"
    }
   ],
   "source": [
    "import math\n",
    "error_xgb = math.sqrt(mean_squared_error(df_y_train, rfr_predictions))\n",
    "r2Score = metrics.r2_score(df_y_train,rfr_predictions)\n",
    "error_xgb,r2Score"
   ]
  },
  {
   "cell_type": "code",
   "execution_count": null,
   "id": "86c547fb",
   "metadata": {},
   "outputs": [],
   "source": []
  },
  {
   "cell_type": "code",
   "execution_count": null,
   "id": "e1c67f8a",
   "metadata": {},
   "outputs": [],
   "source": []
  },
  {
   "cell_type": "code",
   "execution_count": null,
   "id": "d678c4b3",
   "metadata": {},
   "outputs": [],
   "source": [
    "#Xgboost without flight duration"
   ]
  },
  {
   "cell_type": "code",
   "execution_count": 34,
   "id": "09ded795",
   "metadata": {},
   "outputs": [],
   "source": [
    "xgb_model_wo_duration = pickle.load(open('finalized_XGBModelwithoutdurationwithparam.sav', 'rb'))\n"
   ]
  },
  {
   "cell_type": "code",
   "execution_count": 35,
   "id": "bbdd5585",
   "metadata": {},
   "outputs": [
    {
     "data": {
      "text/plain": [
       "0.7925824450873259"
      ]
     },
     "execution_count": 35,
     "metadata": {},
     "output_type": "execute_result"
    }
   ],
   "source": [
    "score = xgb_model_wo_duration.score(x_train,df_y_train)\n",
    "score"
   ]
  },
  {
   "cell_type": "code",
   "execution_count": null,
   "id": "1fc7bba5",
   "metadata": {},
   "outputs": [],
   "source": [
    "xgb_model_wo_duration_prediction = xgb_model_wo_duration.predict(x_train)"
   ]
  },
  {
   "cell_type": "code",
   "execution_count": null,
   "id": "c4f87ce7",
   "metadata": {},
   "outputs": [],
   "source": [
    "import math\n",
    "error_xgb = math.sqrt(mean_squared_error(df_y_train, predications))\n",
    "r2Score = metrics.r2_score(df_y_train,predications)\n",
    "error_xgb,r2Score"
   ]
  },
  {
   "cell_type": "code",
   "execution_count": 37,
   "id": "0ea10b7b",
   "metadata": {},
   "outputs": [
    {
     "ename": "SyntaxError",
     "evalue": "invalid syntax (<ipython-input-37-f72d003a2f6f>, line 1)",
     "output_type": "error",
     "traceback": [
      "\u001b[1;36m  File \u001b[1;32m\"<ipython-input-37-f72d003a2f6f>\"\u001b[1;36m, line \u001b[1;32m1\u001b[0m\n\u001b[1;33m    generateOutputCSV(xgb_model_wo_duration, x_test, \"xbg_boost_wo_duration.csv\"):\u001b[0m\n\u001b[1;37m                                                                                  ^\u001b[0m\n\u001b[1;31mSyntaxError\u001b[0m\u001b[1;31m:\u001b[0m invalid syntax\n"
     ]
    }
   ],
   "source": [
    "generateOutputCSV(xgb_model_wo_duration, x_test, \"xbg_boost_wo_duration.csv\"):"
   ]
  },
  {
   "cell_type": "code",
   "execution_count": 38,
   "id": "00d5662d",
   "metadata": {},
   "outputs": [],
   "source": [
    "xgb_predications = xgb_model_wo_duration.predict(x_test)\n",
    "predications = np.round(xgb_predications,1)\n",
    "pd.DataFrame(predications).to_csv(\"xbg_boost_wo_duration.csv\",index=False,header=False)"
   ]
  },
  {
   "cell_type": "code",
   "execution_count": null,
   "id": "892d401e",
   "metadata": {},
   "outputs": [],
   "source": []
  }
 ],
 "metadata": {
  "kernelspec": {
   "display_name": "Python 3",
   "language": "python",
   "name": "python3"
  },
  "language_info": {
   "codemirror_mode": {
    "name": "ipython",
    "version": 3
   },
   "file_extension": ".py",
   "mimetype": "text/x-python",
   "name": "python",
   "nbconvert_exporter": "python",
   "pygments_lexer": "ipython3",
   "version": "3.8.8"
  }
 },
 "nbformat": 4,
 "nbformat_minor": 5
}
